{
 "cells": [
  {
   "cell_type": "code",
   "execution_count": null,
   "id": "b135ce37",
   "metadata": {},
   "outputs": [],
   "source": [
    "# Table of Contents\n",
    "# 1. Import Dependencies\n",
    "# 2. designating variables for each file\n",
    "# 3. reading each file\n",
    "# 4. saving dataframe as CSV file"
   ]
  },
  {
   "cell_type": "code",
   "execution_count": null,
   "id": "84368865",
   "metadata": {},
   "outputs": [],
   "source": [
    "# 1. Import Dependencies \n",
    "import os"
   ]
  },
  {
   "cell_type": "code",
   "execution_count": 1,
   "id": "b13dfc48",
   "metadata": {},
   "outputs": [],
   "source": [
    "# 2. designate a variable name for each file. You can find the file using file path. \n",
    "# Use \"..\" to go back a folder path. \n",
    "\n",
    "october_2019 = \"2019-2020 Schedule Results/October_2019.csv\"\n",
    "november_2019 = \"2019-2020 Schedule Results/November_2019.csv\"\n",
    "december_2019 = \"2019-2020 Schedule Results/December_2019.csv\"\n",
    "january_2020 = \"2019-2020 Schedule Results/January_2020.csv\"\n",
    "february_2020 = \"2019-2020 Schedule Results/February_2020.csv\"\n",
    "march_2020 = \"2019-2020 Schedule Results/March_2020.csv\"\n",
    "july_2020 = \"2019-2020 Schedule Results/July_2020.csv\"\n",
    "august_2020 = \"2019-2020 Schedule Results/August_2020.csv\"\n",
    "september_2020 = \"2019-2020 Schedule Results/September_2020.csv\"\n",
    "october_2020 = \"2019-2020 Schedule Results/October_2020.csv\""
   ]
  },
  {
   "cell_type": "code",
   "execution_count": null,
   "id": "ca7479e3",
   "metadata": {},
   "outputs": [],
   "source": [
    "# 3. Use the syntax below to read the file\n",
    "\n",
    "october19_schedule = pd.read_csv(october_2019)\n",
    "november19_schedule = pd.read_csv(november_2019)\n",
    "december19_schedule = pd.read_csv(december_2019)\n",
    "january20_schedule = pd.read_csv(january_2020)\n",
    "february20_schedule = pd.read_csv(february_2020)\n",
    "march20_schedule = pd.read_csv(march_2020)\n",
    "july20_schedule = pd.read_csv(july_2020)\n",
    "august20_schedule = pd.read_csv(august_2020)\n",
    "september20_schedule = pd.read_csv(september_2020)\n",
    "october20_schedule = pd.read_csv(october_2020)"
   ]
  },
  {
   "cell_type": "code",
   "execution_count": null,
   "id": "0c767256",
   "metadata": {},
   "outputs": [],
   "source": [
    " # 4. # Finalized schedule as csv file\n",
    "    \n",
    "To delimit by a tab you can use the sep argument of to_csv:\n",
    "\n",
    "df.to_csv(file_name, sep='\\t')\n",
    "To use a specific encoding (e.g. 'utf-8') use the encoding argument:\n",
    "\n",
    "df.to_csv(file_name, sep='\\t', encoding='utf-8')\n",
    "\n",
    "# Example below\n",
    "    \n",
    "file_name = '2019-2020 NBA Schedule Results'\n",
    "\n",
    "df.to_csv(file_name, sep='\\t', encoding='utf-8')\n",
    "\n",
    "# https://stackoverflow.com/questions/16923281/writing-a-pandas-dataframe-to-csv-file"
   ]
  },
  {
   "cell_type": "code",
   "execution_count": null,
   "id": "36353b03",
   "metadata": {},
   "outputs": [],
   "source": []
  },
  {
   "cell_type": "code",
   "execution_count": null,
   "id": "1cd540b7",
   "metadata": {},
   "outputs": [],
   "source": []
  },
  {
   "cell_type": "code",
   "execution_count": null,
   "id": "15081bf7",
   "metadata": {},
   "outputs": [],
   "source": []
  }
 ],
 "metadata": {
  "kernelspec": {
   "display_name": "Python [conda env:PythonData] *",
   "language": "python",
   "name": "conda-env-PythonData-py"
  },
  "language_info": {
   "codemirror_mode": {
    "name": "ipython",
    "version": 3
   },
   "file_extension": ".py",
   "mimetype": "text/x-python",
   "name": "python",
   "nbconvert_exporter": "python",
   "pygments_lexer": "ipython3",
   "version": "3.8.11"
  }
 },
 "nbformat": 4,
 "nbformat_minor": 5
}
