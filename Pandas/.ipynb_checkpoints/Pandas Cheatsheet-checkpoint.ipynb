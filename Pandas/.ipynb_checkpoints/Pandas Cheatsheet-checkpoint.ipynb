{
 "cells": [
  {
   "cell_type": "code",
   "execution_count": null,
   "id": "7df984f5",
   "metadata": {},
   "outputs": [],
   "source": [
    "# Table of Contents\n",
    "\n",
    "# 1. Dependencies\n",
    "# 2. Appending Multiple Dataframes\n",
    "# 3. Dropping Columns from Dataframes\n",
    "# 4. Renaming Columns within Dataframes\n"
   ]
  },
  {
   "cell_type": "code",
   "execution_count": 1,
   "id": "65df2eba",
   "metadata": {},
   "outputs": [],
   "source": [
    "# The dependency for pandas\n",
    "\n",
    "import pandas as pd\n"
   ]
  },
  {
   "cell_type": "code",
   "execution_count": 2,
   "id": "ece30211",
   "metadata": {},
   "outputs": [
    {
     "ename": "SyntaxError",
     "evalue": "Missing parentheses in call to 'print'. Did you mean print(\"Input DataFrame 1 is:\\n\", df1)? (2779936744.py, line 8)",
     "output_type": "error",
     "traceback": [
      "\u001b[0;36m  File \u001b[0;32m\"/var/folders/n9/t7mhzk117rq2k3zg04nn_fmc0000gn/T/ipykernel_80208/2779936744.py\"\u001b[0;36m, line \u001b[0;32m8\u001b[0m\n\u001b[0;31m    print \"Input DataFrame 1 is:\\n\", df1\u001b[0m\n\u001b[0m          ^\u001b[0m\n\u001b[0;31mSyntaxError\u001b[0m\u001b[0;31m:\u001b[0m Missing parentheses in call to 'print'. Did you mean print(\"Input DataFrame 1 is:\\n\", df1)?\n"
     ]
    }
   ],
   "source": [
    "# Appending dataframes\n",
    "\n",
    "import pandas as pd\n",
    "\n",
    "df1 = pd.DataFrame({\"x\": [5, 2], \"y\": [4, 7], \"z\": [9, 3]})\n",
    "df2 = pd.DataFrame({\"x\": [1, 3], \"y\": [1, 9], \"z\": [29, 30]})\n",
    "\n",
    "print \"Input DataFrame 1 is:\\n\", df1\n",
    "print \"Input DataFrame 2 is:\\n\", df2\n",
    "\n",
    "df3 = df1.append(df2, ignore_index=True)\n",
    "\n",
    "print \"After appending, DataFrame is: \\n\", df3\n",
    "\n",
    "# https://www.tutorialspoint.com/how-to-append-two-dataframes-in-pandas "
   ]
  },
  {
   "cell_type": "code",
   "execution_count": null,
   "id": "6efc2371",
   "metadata": {},
   "outputs": [],
   "source": [
    "# Dropping Columns from a Data Frame\n",
    "\n",
    "The best way to do this in Pandas is to use drop:\n",
    "\n",
    "df = df.drop('column_name', 1)\n",
    "where 1 is the axis number (0 for rows and 1 for columns.)\n",
    "\n",
    "To delete the column without having to reassign df you can do:\n",
    "\n",
    "df.drop('column_name', axis=1, inplace=True)\n",
    "Finally, to drop by column number instead of by column label, try this to delete, e.g. the 1st, 2nd and 4th columns:\n",
    "\n",
    "df = df.drop(df.columns[[0, 1, 3]], axis=1)  # df.columns is zero-based pd.Index\n",
    "Also working with \"text\" syntax for the columns:\n",
    "\n",
    "df.drop(['column_nameA', 'column_nameB'], axis=1, inplace=True)\n",
    "Note: Introduced in v0.21.0 (October 27, 2017), the drop() method accepts index/columns keywords as an alternative to specifying the axis.\n",
    "\n",
    "So we can now just do:\n",
    "\n",
    "df = df.drop(columns=['column_nameA', 'column_nameB'])\n",
    "\n",
    "# https://stackoverflow.com/questions/13411544/delete-a-column-from-a-pandas-dataframe"
   ]
  },
  {
   "cell_type": "code",
   "execution_count": null,
   "id": "eff3d596",
   "metadata": {},
   "outputs": [],
   "source": [
    "# Renaming Columns within a Dataframe\n",
    "\n",
    "RENAME SPECIFIC COLUMNS\n",
    "Use the df.rename() function and refer the columns to be renamed. Not all the columns have to be renamed:\n",
    "\n",
    "df = df.rename(columns={'oldName1': 'newName1', 'oldName2': 'newName2'})\n",
    "# Or rename the existing DataFrame (rather than creating a copy) \n",
    "df.rename(columns={'oldName1': 'newName1', 'oldName2': 'newName2'}, inplace=True)\n",
    "\n",
    "# https://stackoverflow.com/questions/11346283/renaming-column-names-in-pandas"
   ]
  },
  {
   "cell_type": "code",
   "execution_count": null,
   "id": "e184764c",
   "metadata": {},
   "outputs": [],
   "source": []
  },
  {
   "cell_type": "code",
   "execution_count": null,
   "id": "ddddda51",
   "metadata": {},
   "outputs": [],
   "source": []
  },
  {
   "cell_type": "code",
   "execution_count": null,
   "id": "77543f2d",
   "metadata": {},
   "outputs": [],
   "source": []
  },
  {
   "cell_type": "code",
   "execution_count": null,
   "id": "f274c870",
   "metadata": {},
   "outputs": [],
   "source": []
  }
 ],
 "metadata": {
  "kernelspec": {
   "display_name": "Python [conda env:PythonData] *",
   "language": "python",
   "name": "conda-env-PythonData-py"
  },
  "language_info": {
   "codemirror_mode": {
    "name": "ipython",
    "version": 3
   },
   "file_extension": ".py",
   "mimetype": "text/x-python",
   "name": "python",
   "nbconvert_exporter": "python",
   "pygments_lexer": "ipython3",
   "version": "3.8.11"
  }
 },
 "nbformat": 4,
 "nbformat_minor": 5
}
