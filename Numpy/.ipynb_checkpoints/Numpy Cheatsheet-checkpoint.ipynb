{
 "cells": [
  {
   "cell_type": "code",
   "execution_count": null,
   "id": "71c9fba8",
   "metadata": {},
   "outputs": [],
   "source": [
    "# Table of Contents\n",
    "# 1. Import Dependencies\n",
    "# 2. Adding columns based on conditions from previous columns"
   ]
  },
  {
   "cell_type": "code",
   "execution_count": null,
   "id": "72a94feb",
   "metadata": {},
   "outputs": [],
   "source": [
    "# 1. Import Dependencies\n",
    "import numpy as np"
   ]
  },
  {
   "cell_type": "code",
   "execution_count": null,
   "id": "1e1cfcb8",
   "metadata": {},
   "outputs": [],
   "source": [
    "# 2. Adding columns based on conditions from previous columns\n",
    "\n",
    "# Add column based on condition from previous columns\n",
    "\n",
    "conditions = [\n",
    "    (df['Age'] < 20),\n",
    "    (df['Age'] >= 20) & (df['Age'] < 40),\n",
    "    (df['Age'] >= 40) & (df['Age'] < 59),\n",
    "    (df['Age'] >= 60)\n",
    "]\n",
    "\n",
    "values = ['<20 years old', '20-39 years old', '40-59 years old', '60+ years old']\n",
    "\n",
    "df['Age Group'] = np.select(conditions, values)\n",
    "\n",
    "print(df)\n",
    "\n",
    "\n",
    "\n",
    "      Name  Age Birth City Gender        Age Group\n",
    "0     Jane   23     London      F  20-39 years old\n",
    "1  Melissa   45      Paris      F  40-59 years old\n",
    "2     John   35    Toronto      M  20-39 years old\n",
    "3     Matt   64    Atlanta      M    60+ years old\n",
    "\n",
    "#https://datagy.io/pandas-conditional-column/"
   ]
  }
 ],
 "metadata": {
  "kernelspec": {
   "display_name": "Python [conda env:PythonData] *",
   "language": "python",
   "name": "conda-env-PythonData-py"
  },
  "language_info": {
   "codemirror_mode": {
    "name": "ipython",
    "version": 3
   },
   "file_extension": ".py",
   "mimetype": "text/x-python",
   "name": "python",
   "nbconvert_exporter": "python",
   "pygments_lexer": "ipython3",
   "version": "3.8.11"
  }
 },
 "nbformat": 4,
 "nbformat_minor": 5
}
